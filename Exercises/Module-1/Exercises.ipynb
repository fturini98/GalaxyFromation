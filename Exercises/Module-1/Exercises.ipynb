{
 "cells": [
  {
   "cell_type": "markdown",
   "id": "34dd6c46-ead4-4ef7-9cc6-eb786daad2a4",
   "metadata": {},
   "source": [
    "# Exercises on Simulation Data Handling"
   ]
  },
  {
   "cell_type": "markdown",
   "id": "be98eb55-99c3-4732-83fe-3cefa1df8ec9",
   "metadata": {},
   "source": [
    "Using the simple tutorial provided, extend the examples to carry out the following tasks:"
   ]
  },
  {
   "cell_type": "markdown",
   "id": "331886d3-00c3-427c-a066-f0aa2c1899eb",
   "metadata": {},
   "source": [
    "### **Exercise 1 - Quick Inspection of Simulation Data**\n",
    "\n",
    "1) **Visualize** the distribution of dark matter, gas, and stellar particles. **Discuss** the resulting plots.\n",
    "\n",
    "2) To visualize the three-dimensional distribution of particles, **rotate the entire simulation box** along the Y-axis and present the result.\n",
    "\n",
    "**Note**: You can perform arbitrary rotations along the three orthogonal axes (X, Y, and Z) by multiplying the coordinates of a point (or an array of points) with the following rotation matrices:\n",
    "\n",
    "- **Rotation matrix about the X-axis:**\n",
    "\n",
    "$$\n",
    "R_{x} (\\theta) = \\begin{pmatrix}\n",
    "1 & 0 & 0\\\\\n",
    "0 & \\cos(\\theta) & -\\sin(\\theta)\\\\\n",
    "0 & \\sin(\\theta) & \\cos(\\theta)\n",
    "\\end{pmatrix}\n",
    "$$\n",
    "\n",
    "- **Rotation matrix about the Y-axis:**\n",
    "\n",
    "$$\n",
    "R_{y} (\\theta) = \\begin{pmatrix}\n",
    "\\cos(\\theta) & 0 & \\sin(\\theta)\\\\\n",
    "0 & 1 & 0\\\\\n",
    "-\\sin(\\theta) & 0 & \\cos(\\theta)\n",
    "\\end{pmatrix}\n",
    "$$\n",
    "\n",
    "- **Rotation matrix about the Z-axis:**\n",
    "\n",
    "$$\n",
    "R_{z} (\\theta) = \\begin{pmatrix}\n",
    "\\cos(\\theta) & -\\sin(\\theta) & 0\\\\\n",
    "\\sin(\\theta) & \\cos(\\theta) & 0\\\\\n",
    "0 & 0 & 1\n",
    "\\end{pmatrix}\n",
    "$$\n",
    "\n",
    "To rotate a set of particles, apply the following operation:\n",
    "\n",
    "$$\n",
    "P_{\\rm rot} = P_{0} R_{x} R_{y} R_{z}\n",
    "$$\n",
    "\n",
    "where $P_{0}$ is the matrix of the original positions of the particles, and $P_{\\rm rot}$ is the rotated matrix.\n",
    "\n",
    "Finally, remember that **rotation is performed relative to the origin**."
   ]
  },
  {
   "cell_type": "code",
   "execution_count": null,
   "id": "0c1c467b",
   "metadata": {},
   "outputs": [],
   "source": [
    "simulation_folder= '../Simulations'\n",
    "\n"
   ]
  },
  {
   "cell_type": "code",
   "execution_count": 2,
   "id": "d33a159f-931b-4742-b46e-60f792b9462a",
   "metadata": {},
   "outputs": [],
   "source": [
    "# Solution to Exercise 1 should go here...\n",
    "#=====================================================\n",
    "\n",
    "import GalaxyFormation as gf\n",
    "\n",
    "\n",
    "\n",
    "\n",
    "\n",
    "\n",
    "\n",
    "#====================================================="
   ]
  },
  {
   "cell_type": "markdown",
   "id": "73594414-af41-48e3-8fef-54f229b71782",
   "metadata": {},
   "source": [
    "# Exercise 2 - Selecting Individual Halos\n",
    "\n",
    "1. Use the group position dataset to find the centers of MW-like halos with masses $10^{12} < M_{200} / M_{\\odot} < 2 \\times 10^{12}$. Visually inspect the morphology of their central galaxies.\n",
    "\n",
    "2. Plot the distributions of dark matter, gas, and stars around each halo. Describe the diversity in galaxy morphology you observe. Discuss possible origins of this diversity and explore possible methods to test your hypotheses."
   ]
  },
  {
   "cell_type": "code",
   "execution_count": 2,
   "id": "5611fa39-52ee-4779-b734-ebdf4af6394b",
   "metadata": {},
   "outputs": [],
   "source": [
    "# Solution to Exercise 2 should go here...\n",
    "\n",
    "#=====================================================\n",
    "\n",
    "\n",
    "\n",
    "\n",
    "\n",
    "\n",
    "\n",
    "\n",
    "\n",
    "#====================================================="
   ]
  },
  {
   "cell_type": "markdown",
   "id": "979a357b-0896-4698-ac0d-e8d3ec28b095",
   "metadata": {},
   "source": [
    "# Exercise 3 - Dark Matter Halos' Density Profile\n",
    "\n",
    "1. **Measure the Dark Matter Density Profile**:\n",
    "   - Select dark matter halos within a narrow mass range.\n",
    "   - Calculate the dark matter density profile for these halos.\n",
    "   - Plot the mean density profile in natural (dimensionless) units.\n",
    "   - Compare this profile with the Navarro-Frenk-White (NFW) density profile.\n",
    "\n",
    "2. **Analyze Density Profiles in Different Mass Bins**:\n",
    "   - Measure the dark matter density profiles for halos in three distinct mass bins.\n",
    "   - Use natural (dimensionless) units for these profiles.\n",
    "   - To speed up calculations, limit the analysis to at most 100 halos per mass bin.\n",
    "   - Compare the profiles across different mass bins. Are there systematic differences? If so, why?\n",
    "\n",
    "3. **Examine Halo Concentration**:\n",
    "   - Use the measured profiles to determine whether halo concentration increases or decreases with mass.\n",
    "   - Discuss possible reasons for this observed dependence.\n",
    "\n",
    "**Note**: In natural (dimensionless) units, the NFW profile is given by:\n",
    "\n",
    "$\\tilde{\\rho} = \\left( \\frac{c^3}{4\\pi f_c} \\right) \\frac{1}{c \\tilde{r} \\left(1 + c \\tilde{r} \\right)^2}$\n",
    "\n",
    "\n",
    "where:\n",
    "\n",
    "\n",
    "$\\tilde{\\rho} = \\frac{\\rho(\\tilde{r})}{\\rho_{0}}$\n",
    "\n",
    "$\\tilde{r} = \\frac{r}{r_{200}}$\n",
    "\n",
    "$\\rho_{0} = \\frac{M_{200}}{r_{200}^3}$\n",
    "\n",
    "$f_c = \\ln(1 + c) - \\frac{c}{1 + c}$\n",
    "\n",
    "**Additional Exercises**:  \n",
    "\n",
    "4. Derive the above expression for the NFW profile.\n",
    "5. Measure the mass-concentration relation and compare it with the $\\Lambda$CDM mass-concentration relation. Why are massive halos more concentrated than naively expected?"
   ]
  },
  {
   "cell_type": "code",
   "execution_count": 3,
   "id": "81cfa6e9-e804-48bb-8ce4-eec98279212c",
   "metadata": {},
   "outputs": [],
   "source": [
    "# Solution to Exercise 3 should go here...\n",
    "#=====================================================\n",
    "\n",
    "\n",
    "\n",
    "\n",
    "\n",
    "\n",
    "\n",
    "\n",
    "\n",
    "#====================================================="
   ]
  },
  {
   "cell_type": "markdown",
   "id": "922deb30-402a-4b0b-806b-9c7a8af5c135",
   "metadata": {},
   "source": [
    "# Exercise 4 - How galaxies populate dark matter halos?\n",
    "\n",
    "1. **Plot the Stellar vs. Halo Mass Relation**:\n",
    "   - Create a plot of stellar mass versus halo mass for the simulated galaxies in this volume.\n",
    "   - Compare your results with the abundance-matching results.\n",
    "   - **Note**: Since this relation applies to central galaxies only, it is sufficient to consider the FOF groups.\n",
    "\n",
    "2. **Calculate Mass Functions**:\n",
    "   - Compute the halo mass function and the galaxy stellar mass function for the simulations.\n",
    "\n",
    "3. **Interpret the Results**:\n",
    "   - Analyze the relationship between the halo mass function and the galaxy mass function.\n",
    "   - Use the abundance-matching plot from the previous step to help interpret these results.\n",
    "\n",
    "**Note**: To compare with abundance matching, use the analytical formula from Guo et al. (2010):\n",
    "\n",
    "* $\\displaystyle\\frac{M_{str}}{M_{200}} = c \\left[ \\left ( \\displaystyle\\frac{M_{200}}{M_{0}} \\right )^{-\\alpha} + \\left ( \\displaystyle\\frac{M_{200}}{M_{0}} \\right )^{\\beta} \\right ]^{-\\gamma}$,\n",
    "\n",
    "where\n",
    "\n",
    "* $M_{0} = 10^{11.4} \\ M_{\\odot}$ \n",
    "* $c=0.129$ \n",
    "* $\\alpha=0.926$, \n",
    "* $\\beta=0.261$, \n",
    "* $\\gamma=2.440$."
   ]
  },
  {
   "cell_type": "code",
   "execution_count": 4,
   "id": "a34b4302-4c4e-454a-a7b7-ae37fde9a23a",
   "metadata": {},
   "outputs": [],
   "source": [
    "# Solution to Exercise 4 should go here...\n",
    "#=====================================================\n",
    "\n",
    "\n",
    "\n",
    "\n",
    "\n",
    "\n",
    "\n",
    "\n",
    "\n",
    "#====================================================="
   ]
  },
  {
   "cell_type": "markdown",
   "id": "b2c28137-c042-451f-8403-35f787e6f984",
   "metadata": {},
   "source": [
    "# Excercise 5 - The Galaxy Colour Bimodality\n",
    "1. Study whether the simulated galaxy population exhibits a colour bimodality. To this end produce a plot that shows, for instance, the (g-r) galaxy colour as a function of galaxy stellar mass. \n",
    "2. Discuss possible origins of the bimodality and find a third property that provides further support to your interpretation. This could be a third property that correlates with the galaxy coulour."
   ]
  },
  {
   "cell_type": "code",
   "execution_count": 5,
   "id": "1fd5d2ae-8e1d-4f5d-bfa0-4ebddf5580c2",
   "metadata": {},
   "outputs": [],
   "source": [
    "# Solution to Exercise 5 should go here...\n",
    "#=====================================================\n",
    "\n",
    "\n",
    "\n",
    "\n",
    "\n",
    "\n",
    "\n",
    "\n",
    "\n",
    "#====================================================="
   ]
  },
  {
   "cell_type": "markdown",
   "id": "74500807-5645-46bc-b04a-6a9bcf79122d",
   "metadata": {},
   "source": [
    "# Exercise 6 - The Star Formation Rate Density (SFRD) \n",
    "1) Study the Star Formation Rate Density as a function of redshift for the simulated volume. \n",
    "\n",
    "To study the SFRD, you first need to determine the physical time corresponding to a given redshift. This can be obtained by solving:\n",
    "\n",
    "$t(z) = \\displaystyle\\int_{0}^{a(z)} \\displaystyle\\frac{da}{\\dot a} = \\displaystyle\\frac{1}{H_0} \\displaystyle\\int_{z}^{\\infty} \\displaystyle\\frac{dz'}{(1+z') E(z')}$.\n",
    "\n",
    "with $E(z) \\approx \\left [ \\Omega_{\\Lambda,0} + \\left ( 1 - \\Omega_{0} \\right ) (1.0+z)^2 + \\Omega_{m,0} (1+z)^3 \\right ]^{1/2}$\n",
    "\n",
    "However, for a flat Universe, in which $\\Omega_{m,0} + \\Omega_{\\Lambda,0} = 1$, the solution is analytic:\n",
    "\n",
    "$t(z) = \\displaystyle\\frac{1}{H_{0}} \\displaystyle\\frac{2}{3 \\sqrt{\\Omega_{\\Lambda,0}}} \\ln \\left [ \\displaystyle\\frac{\\sqrt{\\Omega_{\\Lambda,0} (1+z)^{-3}} + \\sqrt{\\Omega_{\\Lambda,0} (1+z)^{-3} + \\Omega_{m,0}} } {\\sqrt{\\Omega_{m,0}}} \\right ] $.\n",
    "\n",
    "in which $H_{0}^{-1} = 9.78  h^{-1}$ Gyr.\n",
    "\n",
    "2) Compare the results with data from, e.g., Behroozi et al. (2013)"
   ]
  },
  {
   "cell_type": "code",
   "execution_count": 21,
   "id": "40b7db06-a73e-481e-9285-05f4f4b5d460",
   "metadata": {},
   "outputs": [],
   "source": [
    "# Solution to Exercise 6 should go here...\n",
    "#=====================================================\n",
    "\n",
    "\n",
    "\n",
    "\n",
    "\n",
    "\n",
    "\n",
    "\n",
    "\n",
    "#====================================================="
   ]
  }
 ],
 "metadata": {
  "kernelspec": {
   "display_name": "Python 3",
   "language": "python",
   "name": "python3"
  },
  "language_info": {
   "codemirror_mode": {
    "name": "ipython",
    "version": 3
   },
   "file_extension": ".py",
   "mimetype": "text/x-python",
   "name": "python",
   "nbconvert_exporter": "python",
   "pygments_lexer": "ipython3",
   "version": "3.11.9"
  }
 },
 "nbformat": 4,
 "nbformat_minor": 5
}
